{
 "cells": [
  {
   "cell_type": "code",
   "execution_count": 2,
   "metadata": {},
   "outputs": [
    {
     "name": "stdout",
     "output_type": "stream",
     "text": [
      "Descriptive statistics for numerical columns:\n",
      "             age         salary\n",
      "count  20.000000      20.000000\n",
      "mean   30.550000   49333.800000\n",
      "std    25.407158   44638.776203\n",
      "min     2.000000       1.000000\n",
      "25%    10.250000    7525.000000\n",
      "50%    27.000000   47500.000000\n",
      "75%    42.500000   79750.000000\n",
      "max    99.000000  150000.000000\n",
      "\n",
      "Mode of nationality:\n",
      "0    Antarctic\n",
      "1      British\n",
      "2       Feline\n",
      "Name: nationality, dtype: object\n",
      "\n",
      "Unique nationalities:\n",
      "['German' 'British' 'Antarctic' 'Italian' 'Feline' 'Australian' 'Canadian'\n",
      " 'French' 'Duckish' 'Unicorn' 'Kenyan' 'Troll' 'Birdish' 'American'\n",
      " 'Peruvian' 'Belgian' 'Mexican']\n"
     ]
    }
   ],
   "source": [
    "import pandas as pd\n",
    "\n",
    "users = [\n",
    "    {\"name\": \"Baron Von Fancypants\", \"age\": 38, \"salary\": 120000, \"nationality\": \"German\"},\n",
    "    {\"name\": \"Countess Bubbles McFluff\", \"age\": 25, \"salary\": 85000, \"nationality\": \"British\"},\n",
    "    {\"name\": \"Professor Penguino\", \"age\": 52, \"salary\": 98500, \"nationality\": \"Antarctic\"},\n",
    "    {\"name\": \"Lady GagaGooGoo\", \"age\": 31, \"salary\": 150000, \"nationality\": \"Italian\"},\n",
    "    {\"name\": \"Sir Whiskers the Third\", \"age\": 8, \"salary\": 5, \"nationality\": \"Feline\"},\n",
    "    {\"name\": \"Queen Quokka Quokka\", \"age\": 12, \"salary\": 30000, \"nationality\": \"Australian\"},\n",
    "    {\"name\": \"Lord Bumbersnoot\", \"age\": 47, \"salary\": 78000, \"nationality\": \"Canadian\"},\n",
    "    {\"name\": \"Madame Escargot\", \"age\": 62, \"salary\": 55000, \"nationality\": \"French\"},\n",
    "    {\"name\": \"Duke Ducky McQuack\", \"age\": 19, \"salary\": 10000, \"nationality\": \"Duckish\"},\n",
    "    {\"name\": \"Princess Sparkles Rainbow\", \"age\": 7, \"salary\": 1, \"nationality\": \"Unicorn\"},\n",
    "    {\"name\": \"Captain Crumpet\", \"age\": 41, \"salary\": 65000, \"nationality\": \"British\"},\n",
    "    {\"name\": \"Major Tom Cat\", \"age\": 5, \"salary\": 100, \"nationality\": \"Feline\"},\n",
    "    {\"name\": \"General Giraffe\", \"age\": 18, \"salary\": 25000, \"nationality\": \"Kenyan\"},\n",
    "    {\"name\": \"Sergeant Snargletooth\", \"age\": 33, \"salary\": 50000, \"nationality\": \"Troll\"},\n",
    "    {\"name\": \"Admiral Albatross\", \"age\": 68, \"salary\": 90000, \"nationality\": \"Birdish\"},\n",
    "    {\"name\": \"Colonel Corncob\", \"age\": 29, \"salary\": 45000, \"nationality\": \"American\"},\n",
    "    {\"name\": \"Private Penguin\", \"age\": 2, \"salary\": 20, \"nationality\": \"Antarctic\"},\n",
    "    {\"name\": \"Lieutenant Llama\", \"age\": 11, \"salary\": 15000, \"nationality\": \"Peruvian\"},\n",
    "    {\"name\": \"Warrant Officer Waffle\", \"age\": 4, \"salary\": 50, \"nationality\": \"Belgian\"},\n",
    "    {\"name\": \"Corporal Cactus\", \"age\": 99, \"salary\": 70000, \"nationality\": \"Mexican\"}\n",
    "]\n",
    "\n",
    "# Create DataFrame from the users list\n",
    "df = pd.DataFrame(users)\n",
    "\n",
    "# Get descriptive statistics for numerical columns\n",
    "numerical_stats = df.describe()\n",
    "\n",
    "# Calculate mode of nationality\n",
    "nationality_mode = df['nationality'].mode()\n",
    "\n",
    "# Get unique nationalities\n",
    "unique_nationalities = df['nationality'].unique()\n",
    "\n",
    "# Print results\n",
    "print(\"Descriptive statistics for numerical columns:\")\n",
    "print(numerical_stats)\n",
    "print(\"\\nMode of nationality:\")\n",
    "print(nationality_mode)\n",
    "print(\"\\nUnique nationalities:\")\n",
    "print(unique_nationalities)"
   ]
  },
  {
   "cell_type": "code",
   "execution_count": null,
   "metadata": {},
   "outputs": [],
   "source": []
  }
 ],
 "metadata": {
  "kernelspec": {
   "display_name": "Python 3",
   "language": "python",
   "name": "python3"
  },
  "language_info": {
   "codemirror_mode": {
    "name": "ipython",
    "version": 3
   },
   "file_extension": ".py",
   "mimetype": "text/x-python",
   "name": "python",
   "nbconvert_exporter": "python",
   "pygments_lexer": "ipython3",
   "version": "3.11.5"
  }
 },
 "nbformat": 4,
 "nbformat_minor": 2
}
